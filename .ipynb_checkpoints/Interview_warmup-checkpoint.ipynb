{
 "cells": [
  {
   "cell_type": "markdown",
   "metadata": {},
   "source": [
    "# Question 1\n",
    "John works at a clothing store. He has a large pile of socks that he must pair by color for sale. Given an array of integers representing the color of each sock, determine how many pairs of socks with matching colors there are.\n",
    "\n",
    "For example, there are  socks with colors . There is one pair of color  and one of color . There are three odd socks left, one of each color. The number of pairs is .\n",
    "\n",
    "**Function Description**\n",
    "\n",
    "Complete the sockMerchant function in the editor below. It must return an integer representing the number of matching pairs of socks that are available.\n",
    "\n",
    "sockMerchant has the following parameter(s):\n",
    "\n",
    "- n: the number of socks in the pile\n",
    "- ar: the colors of each sock\n",
    "\n",
    "**Input Format**\n",
    "\n",
    "The first line contains an integer , the number of socks represented in .\n",
    "The second line contains  space-separated integers describing the colors  of the socks in the pile.\n",
    "\n",
    "**Constraints**\n",
    "- 1 <= *n* <= 100\n",
    "- 1 <= *ar[i]* <= 100 where 0 < *i* < *n*\n",
    " \n",
    "**Output Format**\n",
    "\n",
    "Return the total number of matching pairs of socks that John can sell."
   ]
  },
  {
   "cell_type": "code",
   "execution_count": 16,
   "metadata": {},
   "outputs": [],
   "source": [
    "import random\n",
    "from collections import Counter \n",
    "import numpy as np"
   ]
  },
  {
   "cell_type": "code",
   "execution_count": 20,
   "metadata": {},
   "outputs": [
    {
     "name": "stdout",
     "output_type": "stream",
     "text": [
      "[2, 5, 4, 5, 2, 2, 3, 1, 2, 3, 2, 2, 4, 1, 6, 5, 1, 5, 6, 4] \n",
      "\n",
      "Unique colors\n",
      "[1 2 3 4 5 6]\n"
     ]
    }
   ],
   "source": [
    "# number of socks \n",
    "n = 20\n",
    "\n",
    "# generating a randonm list of socks\n",
    "socks = [] \n",
    "for i in range(n):\n",
    "    socks.append(random.randint(1,6))\n",
    "\n",
    "# check your sock colors\n",
    "print(socks, '\\n')\n",
    "\n",
    "# check how many colors it contains\n",
    "print('Unique colors')\n",
    "print(np.unique(socks))"
   ]
  },
  {
   "cell_type": "code",
   "execution_count": 28,
   "metadata": {},
   "outputs": [
    {
     "ename": "SyntaxError",
     "evalue": "invalid syntax (<ipython-input-28-4e418a93d5bc>, line 8)",
     "output_type": "error",
     "traceback": [
      "\u001b[0;36m  File \u001b[0;32m\"<ipython-input-28-4e418a93d5bc>\"\u001b[0;36m, line \u001b[0;32m8\u001b[0m\n\u001b[0;31m    for sock in socks:\u001b[0m\n\u001b[0m                     ^\u001b[0m\n\u001b[0;31mSyntaxError\u001b[0m\u001b[0;31m:\u001b[0m invalid syntax\n"
     ]
    }
   ],
   "source": [
    "# creating the function \n",
    "def match_socks(x):\n",
    "    \n",
    "    matching_socks = 0 \n",
    "    \n",
    "    socks = Counter(map(int, x)\n",
    "    \n",
    "    for sock in socks:\n",
    "        matching_socks += socks[sock]//2\n",
    "    return matching_socks\n",
    "    "
   ]
  },
  {
   "cell_type": "code",
   "execution_count": 26,
   "metadata": {},
   "outputs": [
    {
     "ename": "AttributeError",
     "evalue": "'list' object has no attribute 'split'",
     "output_type": "error",
     "traceback": [
      "\u001b[0;31m---------------------------------------------------------------------------\u001b[0m",
      "\u001b[0;31mAttributeError\u001b[0m                            Traceback (most recent call last)",
      "\u001b[0;32m<ipython-input-26-bbfc7b3489f8>\u001b[0m in \u001b[0;36m<module>\u001b[0;34m()\u001b[0m\n\u001b[0;32m----> 1\u001b[0;31m \u001b[0mmatch_socks\u001b[0m\u001b[0;34m(\u001b[0m\u001b[0msocks\u001b[0m\u001b[0;34m)\u001b[0m\u001b[0;34m\u001b[0m\u001b[0m\n\u001b[0m",
      "\u001b[0;32m<ipython-input-25-b7330e958579>\u001b[0m in \u001b[0;36mmatch_socks\u001b[0;34m(socks)\u001b[0m\n\u001b[1;32m      4\u001b[0m     \u001b[0mmatching_socks\u001b[0m \u001b[0;34m=\u001b[0m \u001b[0;36m0\u001b[0m\u001b[0;34m\u001b[0m\u001b[0m\n\u001b[1;32m      5\u001b[0m \u001b[0;34m\u001b[0m\u001b[0m\n\u001b[0;32m----> 6\u001b[0;31m     \u001b[0msocks\u001b[0m \u001b[0;34m=\u001b[0m \u001b[0mCounter\u001b[0m\u001b[0;34m(\u001b[0m\u001b[0mmap\u001b[0m\u001b[0;34m(\u001b[0m\u001b[0mint\u001b[0m\u001b[0;34m,\u001b[0m\u001b[0msocks\u001b[0m\u001b[0;34m.\u001b[0m\u001b[0msplit\u001b[0m\u001b[0;34m(\u001b[0m\u001b[0;34m)\u001b[0m\u001b[0;34m)\u001b[0m\u001b[0;34m)\u001b[0m\u001b[0;34m\u001b[0m\u001b[0m\n\u001b[0m\u001b[1;32m      7\u001b[0m \u001b[0;34m\u001b[0m\u001b[0m\n\u001b[1;32m      8\u001b[0m     \u001b[0;32mfor\u001b[0m \u001b[0msock\u001b[0m \u001b[0;32min\u001b[0m \u001b[0msocks\u001b[0m\u001b[0;34m:\u001b[0m\u001b[0;34m\u001b[0m\u001b[0m\n",
      "\u001b[0;31mAttributeError\u001b[0m: 'list' object has no attribute 'split'"
     ]
    }
   ],
   "source": [
    "match_socks(socks)"
   ]
  },
  {
   "cell_type": "code",
   "execution_count": 34,
   "metadata": {},
   "outputs": [],
   "source": [
    "def find_odd():\n",
    "    '''find odd numbers between l and r'''\n",
    "    l = int(input())\n",
    "    r = int(input())\n",
    "    \n",
    "    for num in range(l, r):\n",
    "        if num % 2 !=0: \n",
    "            print(num, end = ' ')\n",
    "        \n",
    "    if r % 2 !=0:\n",
    "        print(r)\n",
    "        "
   ]
  },
  {
   "cell_type": "code",
   "execution_count": 36,
   "metadata": {},
   "outputs": [
    {
     "name": "stdin",
     "output_type": "stream",
     "text": [
      " 4\n",
      " 20\n"
     ]
    },
    {
     "name": "stdout",
     "output_type": "stream",
     "text": [
      "5 7 9 11 13 15 17 19 "
     ]
    }
   ],
   "source": [
    "find_odd()"
   ]
  },
  {
   "cell_type": "code",
   "execution_count": 7,
   "metadata": {},
   "outputs": [
    {
     "name": "stdin",
     "output_type": "stream",
     "text": [
      " 1\n",
      " 8\n"
     ]
    },
    {
     "name": "stdout",
     "output_type": "stream",
     "text": [
      "1 3 5 7 "
     ]
    }
   ],
   "source": [
    "def search_num(arr, k):\n",
    "    arr = int(input())"
   ]
  },
  {
   "cell_type": "code",
   "execution_count": 10,
   "metadata": {},
   "outputs": [
    {
     "name": "stdin",
     "output_type": "stream",
     "text": [
      " 2\n"
     ]
    },
    {
     "name": "stdout",
     "output_type": "stream",
     "text": [
      "[2]\n"
     ]
    }
   ],
   "source": [
    "a = [int(x) for x in input().split()]\n",
    "print(a)"
   ]
  },
  {
   "cell_type": "code",
   "execution_count": 14,
   "metadata": {},
   "outputs": [
    {
     "name": "stdin",
     "output_type": "stream",
     "text": [
      " google \n",
      " facebook \n",
      " neflix\n",
      " tesla\n",
      " Twilio \n"
     ]
    }
   ],
   "source": [
    "a = []\n",
    "for i in range(5):\n",
    "    a.append(str(input()))"
   ]
  },
  {
   "cell_type": "code",
   "execution_count": 15,
   "metadata": {},
   "outputs": [],
   "source": [
    "import numpy as np"
   ]
  },
  {
   "cell_type": "code",
   "execution_count": 39,
   "metadata": {},
   "outputs": [
    {
     "name": "stdout",
     "output_type": "stream",
     "text": [
      "[2 4 5 6 7 1 8]\n"
     ]
    }
   ],
   "source": [
    "a = np.array([2,4,5,6,7,1,8])\n",
    "print(a)"
   ]
  },
  {
   "cell_type": "code",
   "execution_count": 42,
   "metadata": {},
   "outputs": [],
   "source": [
    "def search_num(arr, k):\n",
    "    \n",
    "    #k = int(input())\n",
    "    \n",
    "    if k in arr: \n",
    "        print('YES')\n",
    "    else: \n",
    "        print('NO')\n",
    "    "
   ]
  },
  {
   "cell_type": "code",
   "execution_count": 43,
   "metadata": {},
   "outputs": [
    {
     "name": "stdout",
     "output_type": "stream",
     "text": [
      "YES\n"
     ]
    }
   ],
   "source": [
    "search_num(a, 4)"
   ]
  },
  {
   "cell_type": "code",
   "execution_count": null,
   "metadata": {},
   "outputs": [],
   "source": [
    "def search(arr, k):\n",
    "    \n",
    "    lst = []\n",
    "    \n",
    "    arr = int(input(\"Enter number of elements: \"))\n",
    "    \n",
    "    for i in range(0, )"
   ]
  },
  {
   "cell_type": "markdown",
   "metadata": {},
   "source": [
    "---"
   ]
  },
  {
   "cell_type": "markdown",
   "metadata": {},
   "source": [
    "# IBM - Sample Questions \n",
    "\n",
    "## 1. Given an unsorted array of n elements, find if the element k is present in the array or not. Complete the *findNumber* function in the editor. It has 2 parameters.\n",
    "\n",
    "\n",
    "- An array of intergers, arr, denoting the elements in the array. \n",
    "- An interger, k, denoting the element to b searched in the array. \n",
    "\n",
    "The function mus return a string \"YES\" or \"NO\" denoting if the element is present in the array or not. \n",
    "\n"
   ]
  },
  {
   "cell_type": "code",
   "execution_count": 48,
   "metadata": {},
   "outputs": [],
   "source": [
    "def finNumbers(arr, k):\n",
    "    \n",
    "    if k in arr:\n",
    "        print('YES')\n",
    "    else:\n",
    "        print(\"NO\")\n",
    "    \n",
    "    "
   ]
  },
  {
   "cell_type": "code",
   "execution_count": 51,
   "metadata": {},
   "outputs": [
    {
     "name": "stdout",
     "output_type": "stream",
     "text": [
      "YES\n",
      "NO\n"
     ]
    }
   ],
   "source": [
    "lst_1 = [1,3,4,5,5,3,2,5]\n",
    "lst_2 = [3,11,33,2,80,30]\n",
    "\n",
    "finNumbers(lst_1, 2)\n",
    "finNumbers(lst_2, 44)"
   ]
  },
  {
   "cell_type": "code",
   "execution_count": null,
   "metadata": {},
   "outputs": [],
   "source": []
  },
  {
   "cell_type": "markdown",
   "metadata": {},
   "source": [
    "## 2. Given two integers, _l_ and _r_, print all the odd numbers between them (*l* and *r* inclusive).. Complete the *oddNumbers* function in the editor below. It has 2 parameters: \n",
    "\n",
    "- An integer, *l*, denoting the left part of the range. \n",
    "- An integer, *r*, denoting the right part of the range. \n",
    "\n",
    "The function must return an array of integers denoting the odd numbers between *l* and *r*. \n",
    "\n"
   ]
  },
  {
   "cell_type": "code",
   "execution_count": 45,
   "metadata": {},
   "outputs": [],
   "source": [
    "def oddNumber(l , r): \n",
    "    '''find odd numbers between l and r'''\n",
    "    #l = int(input())\n",
    "    #r = int(input())\n",
    "    \n",
    "    for num in range(l, r):\n",
    "        if num % 2 !=0: \n",
    "            print(num, end = ' ')\n",
    "        \n",
    "    if r % 2 !=0:\n",
    "        print(r)"
   ]
  },
  {
   "cell_type": "code",
   "execution_count": 47,
   "metadata": {},
   "outputs": [
    {
     "name": "stdout",
     "output_type": "stream",
     "text": [
      "1 3 5 7 9 11 13 15 17 19 21 23 25 27 29 "
     ]
    }
   ],
   "source": [
    "oddNumber(0, 30)"
   ]
  },
  {
   "cell_type": "markdown",
   "metadata": {},
   "source": [
    "---"
   ]
  },
  {
   "cell_type": "markdown",
   "metadata": {},
   "source": [
    "# Hacker Rank Questions"
   ]
  },
  {
   "cell_type": "markdown",
   "metadata": {},
   "source": [
    "## Jumping on the Clouds\n",
    "Emma is playing a new mobile game that starts with consecutively numbered clouds. Some of the clouds are thunderheads and others are cumulus. She can jump on any cumulus cloud having a number that is equal to the number of the current cloud plus 1 or 2 . She must avoid the thunderheads. Determine the minimum number of jumps it will take Emma to jump from her starting postion to the last cloud. It is always possible to win the game.\n",
    "\n",
    "For each game, Emma will get an array of clouds numbered 0 if they are safe or 1 if they must be avoided. For example, `c = [0,1,0,0,0,1,0]` indexed from 0...6. The number on each cloud is its index in the list so she must avoid the clouds at indexes 1 and 5. She could follow the following two paths: 0 > 2 > 4 > 6 or 0 > 2 > 3 > 4 > 6 . The first path takes 3 jumps while the second takes 4.\n",
    "\n",
    "**Function descripction:**\n",
    "Complete the jumpingOnClouds function in the editor below. It should return the minimum number of jumps required, as an integer. The function should have the following parameter(s):\n",
    "- c: an array of binary integers \n",
    "\n"
   ]
  },
  {
   "cell_type": "code",
   "execution_count": null,
   "metadata": {},
   "outputs": [],
   "source": [
    "def jumpingOnClouds(c):\n",
    "    "
   ]
  }
 ],
 "metadata": {
  "kernelspec": {
   "display_name": "Python 3",
   "language": "python",
   "name": "python3"
  },
  "language_info": {
   "codemirror_mode": {
    "name": "ipython",
    "version": 3
   },
   "file_extension": ".py",
   "mimetype": "text/x-python",
   "name": "python",
   "nbconvert_exporter": "python",
   "pygments_lexer": "ipython3",
   "version": "3.6.6"
  }
 },
 "nbformat": 4,
 "nbformat_minor": 2
}
